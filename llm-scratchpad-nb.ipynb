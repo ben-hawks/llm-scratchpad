{
 "cells": [
  {
   "cell_type": "code",
   "id": "initial_id",
   "metadata": {
    "collapsed": true,
    "ExecuteTime": {
     "end_time": "2024-12-10T18:42:15.638762Z",
     "start_time": "2024-12-10T18:42:15.583430Z"
    }
   },
   "source": [
    "from langchain_unstructured import UnstructuredLoader\n",
    "from unstructured.cleaners.core import clean_extra_whitespace\n",
    "import os\n",
    "\n",
    "def list_rst_files(directory):\n",
    "    rst_files = []\n",
    "    for root, _, files in os.walk(directory):\n",
    "        for file in files:\n",
    "            #print(file)\n",
    "            if file.endswith('.rst'):\n",
    "                rst_files.append(os.path.join(root, file))\n",
    "    return rst_files\n",
    "\n",
    "directory = '../EAFJupyter-master/docs' #just downloaded the zip of this repo https://github.com/mapsacosta/EAFJupyter/tree/master\n",
    "print(list_rst_files(directory))\n",
    "loader = UnstructuredLoader(list_rst_files(directory), post_processors=[clean_extra_whitespace])"
   ],
   "outputs": [
    {
     "name": "stdout",
     "output_type": "stream",
     "text": [
      "00_comp_capabilities.rst\n",
      "00_eaf_dae.rst\n",
      "00_getting_started.rst\n",
      "00_introduction.rst\n",
      "00_jupyter_advanced.rst\n",
      "00_jupyter_basics.rst\n",
      "00_user_accounts.rst\n",
      "01_acorn.rst\n",
      "01_cmslpc.rst\n",
      "01_cosmic.rst\n",
      "01_dune_lbnf.rst\n",
      "01_experiment_specific_accounts.rst\n",
      "01_fermi_gen.rst\n",
      "01_fife.rst\n",
      "01_getting_fnal_accounts.rst\n",
      "01_inference.rst\n",
      "01_jobsub.rst\n",
      "01_jupyterhub_extensions.rst\n",
      "01_jupyterhub_terminal.rst\n",
      "01_jupyterhub_terminal_howto.rst\n",
      "01_managing_notebooks.rst\n",
      "01_named_sessions.rst\n",
      "01_new_users_python.rst\n",
      "01_storage.rst\n",
      "01_tips_tricks.rst\n",
      "01_troubleshooting.rst\n",
      "01_tutorials.rst\n",
      "02_add_extensions.rst\n",
      "02_batch_dask_cms.rst\n",
      "02_cms_accounts.rst\n",
      "02_coffea_examples.rst\n",
      "02_common_issues.rst\n",
      "02_contact.rst\n",
      "02_customization.rst\n",
      "02_dask_errors.rst\n",
      "02_dask_extension.rst\n",
      "02_dask_usage_jupyter.rst\n",
      "02_fileops_jupyter.rst\n",
      "02_fileops_xrootd.rst\n",
      "02_github_extension.rst\n",
      "02_important_links.rst\n",
      "02_installing_libraries.rst\n",
      "02_jupyter_console_ui.rst\n",
      "02_local_dask.rst\n",
      "02_nb_conda_kernels.rst\n",
      "02_preinstalled_libs.rst\n",
      "02_submit_htcondor_cms.rst\n",
      "02_user_script_customization.rst\n",
      "02_vscode.rst\n",
      "03_announcements.rst\n",
      "03_help.rst\n",
      "03_proxy.rst\n",
      "03_root_kernel.rst\n",
      "conf.py\n",
      "help.rst\n",
      "index.rst\n",
      "notebook-structure-footer.rst\n",
      "readthedocs.yml\n",
      "requirements.txt\n",
      "acorn-accleai.png\n",
      "analysisfacilities.png\n",
      "astro-preamble.png\n",
      "cms.png\n",
      "cosmic.png\n",
      "dask_htcondor_diagram.png\n",
      "dask_notebook_options.png\n",
      "diagram.png\n",
      "diskfull.png\n",
      "dune.png\n",
      "eaf-facility.png\n",
      "eaf_ecosystem.png\n",
      "ElasticAFcomponent.drawio.png\n",
      "fermi_generic.png\n",
      "fife.png\n",
      "foxy_add.png\n",
      "foxy_extension.png\n",
      "fp-settings.jpg\n",
      "help_no_launchers.png\n",
      "lpc-preamble.png\n",
      "mismatch_table_dask.png\n",
      "named_servers.png\n",
      "nb_conda_post.png\n",
      "nb_conda_post_2.png\n",
      "nb_conda_pre.png\n",
      "reduced_terminal.png\n",
      "EAF-htcdaskgateway.ipynb\n",
      "conf.py\n",
      "index.rst\n",
      "['../EAFJupyter-master/docs/00_comp_capabilities.rst', '../EAFJupyter-master/docs/00_eaf_dae.rst', '../EAFJupyter-master/docs/00_getting_started.rst', '../EAFJupyter-master/docs/00_introduction.rst', '../EAFJupyter-master/docs/00_jupyter_advanced.rst', '../EAFJupyter-master/docs/00_jupyter_basics.rst', '../EAFJupyter-master/docs/00_user_accounts.rst', '../EAFJupyter-master/docs/01_acorn.rst', '../EAFJupyter-master/docs/01_cmslpc.rst', '../EAFJupyter-master/docs/01_cosmic.rst', '../EAFJupyter-master/docs/01_dune_lbnf.rst', '../EAFJupyter-master/docs/01_experiment_specific_accounts.rst', '../EAFJupyter-master/docs/01_fermi_gen.rst', '../EAFJupyter-master/docs/01_fife.rst', '../EAFJupyter-master/docs/01_getting_fnal_accounts.rst', '../EAFJupyter-master/docs/01_inference.rst', '../EAFJupyter-master/docs/01_jobsub.rst', '../EAFJupyter-master/docs/01_jupyterhub_extensions.rst', '../EAFJupyter-master/docs/01_jupyterhub_terminal.rst', '../EAFJupyter-master/docs/01_jupyterhub_terminal_howto.rst', '../EAFJupyter-master/docs/01_managing_notebooks.rst', '../EAFJupyter-master/docs/01_named_sessions.rst', '../EAFJupyter-master/docs/01_new_users_python.rst', '../EAFJupyter-master/docs/01_storage.rst', '../EAFJupyter-master/docs/01_tips_tricks.rst', '../EAFJupyter-master/docs/01_troubleshooting.rst', '../EAFJupyter-master/docs/01_tutorials.rst', '../EAFJupyter-master/docs/02_add_extensions.rst', '../EAFJupyter-master/docs/02_batch_dask_cms.rst', '../EAFJupyter-master/docs/02_cms_accounts.rst', '../EAFJupyter-master/docs/02_coffea_examples.rst', '../EAFJupyter-master/docs/02_common_issues.rst', '../EAFJupyter-master/docs/02_contact.rst', '../EAFJupyter-master/docs/02_customization.rst', '../EAFJupyter-master/docs/02_dask_errors.rst', '../EAFJupyter-master/docs/02_dask_extension.rst', '../EAFJupyter-master/docs/02_dask_usage_jupyter.rst', '../EAFJupyter-master/docs/02_fileops_jupyter.rst', '../EAFJupyter-master/docs/02_fileops_xrootd.rst', '../EAFJupyter-master/docs/02_github_extension.rst', '../EAFJupyter-master/docs/02_important_links.rst', '../EAFJupyter-master/docs/02_installing_libraries.rst', '../EAFJupyter-master/docs/02_jupyter_console_ui.rst', '../EAFJupyter-master/docs/02_local_dask.rst', '../EAFJupyter-master/docs/02_nb_conda_kernels.rst', '../EAFJupyter-master/docs/02_preinstalled_libs.rst', '../EAFJupyter-master/docs/02_submit_htcondor_cms.rst', '../EAFJupyter-master/docs/02_user_script_customization.rst', '../EAFJupyter-master/docs/02_vscode.rst', '../EAFJupyter-master/docs/03_announcements.rst', '../EAFJupyter-master/docs/03_help.rst', '../EAFJupyter-master/docs/03_proxy.rst', '../EAFJupyter-master/docs/03_root_kernel.rst', '../EAFJupyter-master/docs/help.rst', '../EAFJupyter-master/docs/index.rst', '../EAFJupyter-master/docs/notebook-structure-footer.rst', '../EAFJupyter-master/docs/source/index.rst']\n",
      "00_comp_capabilities.rst\n",
      "00_eaf_dae.rst\n",
      "00_getting_started.rst\n",
      "00_introduction.rst\n",
      "00_jupyter_advanced.rst\n",
      "00_jupyter_basics.rst\n",
      "00_user_accounts.rst\n",
      "01_acorn.rst\n",
      "01_cmslpc.rst\n",
      "01_cosmic.rst\n",
      "01_dune_lbnf.rst\n",
      "01_experiment_specific_accounts.rst\n",
      "01_fermi_gen.rst\n",
      "01_fife.rst\n",
      "01_getting_fnal_accounts.rst\n",
      "01_inference.rst\n",
      "01_jobsub.rst\n",
      "01_jupyterhub_extensions.rst\n",
      "01_jupyterhub_terminal.rst\n",
      "01_jupyterhub_terminal_howto.rst\n",
      "01_managing_notebooks.rst\n",
      "01_named_sessions.rst\n",
      "01_new_users_python.rst\n",
      "01_storage.rst\n",
      "01_tips_tricks.rst\n",
      "01_troubleshooting.rst\n",
      "01_tutorials.rst\n",
      "02_add_extensions.rst\n",
      "02_batch_dask_cms.rst\n",
      "02_cms_accounts.rst\n",
      "02_coffea_examples.rst\n",
      "02_common_issues.rst\n",
      "02_contact.rst\n",
      "02_customization.rst\n",
      "02_dask_errors.rst\n",
      "02_dask_extension.rst\n",
      "02_dask_usage_jupyter.rst\n",
      "02_fileops_jupyter.rst\n",
      "02_fileops_xrootd.rst\n",
      "02_github_extension.rst\n",
      "02_important_links.rst\n",
      "02_installing_libraries.rst\n",
      "02_jupyter_console_ui.rst\n",
      "02_local_dask.rst\n",
      "02_nb_conda_kernels.rst\n",
      "02_preinstalled_libs.rst\n",
      "02_submit_htcondor_cms.rst\n",
      "02_user_script_customization.rst\n",
      "02_vscode.rst\n",
      "03_announcements.rst\n",
      "03_help.rst\n",
      "03_proxy.rst\n",
      "03_root_kernel.rst\n",
      "conf.py\n",
      "help.rst\n",
      "index.rst\n",
      "notebook-structure-footer.rst\n",
      "readthedocs.yml\n",
      "requirements.txt\n",
      "acorn-accleai.png\n",
      "analysisfacilities.png\n",
      "astro-preamble.png\n",
      "cms.png\n",
      "cosmic.png\n",
      "dask_htcondor_diagram.png\n",
      "dask_notebook_options.png\n",
      "diagram.png\n",
      "diskfull.png\n",
      "dune.png\n",
      "eaf-facility.png\n",
      "eaf_ecosystem.png\n",
      "ElasticAFcomponent.drawio.png\n",
      "fermi_generic.png\n",
      "fife.png\n",
      "foxy_add.png\n",
      "foxy_extension.png\n",
      "fp-settings.jpg\n",
      "help_no_launchers.png\n",
      "lpc-preamble.png\n",
      "mismatch_table_dask.png\n",
      "named_servers.png\n",
      "nb_conda_post.png\n",
      "nb_conda_post_2.png\n",
      "nb_conda_pre.png\n",
      "reduced_terminal.png\n",
      "EAF-htcdaskgateway.ipynb\n",
      "conf.py\n",
      "index.rst\n"
     ]
    }
   ],
   "execution_count": 10
  },
  {
   "metadata": {
    "ExecuteTime": {
     "end_time": "2024-12-10T18:42:40.089305Z",
     "start_time": "2024-12-10T18:42:24.023610Z"
    }
   },
   "cell_type": "code",
   "source": [
    "\n",
    "docs = loader.load()\n",
    "\n",
    "docs[0]\n",
    "print(docs[0].metadata)"
   ],
   "id": "bf3a4ac7a8c5d55e",
   "outputs": [
    {
     "name": "stdout",
     "output_type": "stream",
     "text": [
      "{'source': '../EAFJupyter-master/docs/00_comp_capabilities.rst', 'category_depth': 0, 'languages': ['cat'], 'file_directory': '../EAFJupyter-master/docs', 'filename': '00_comp_capabilities.rst', 'filetype': 'text/x-rst', 'last_modified': '2024-12-04T11:35:12', 'category': 'Title', 'element_id': '71d3b1ca98f65abe6fe97a1695bb8b30'}\n"
     ]
    }
   ],
   "execution_count": 11
  },
  {
   "metadata": {
    "ExecuteTime": {
     "end_time": "2024-12-10T18:45:44.165934Z",
     "start_time": "2024-12-10T18:45:44.162782Z"
    }
   },
   "cell_type": "code",
   "source": [
    "import getpass\n",
    "import os\n",
    "\n",
    "os.environ[\"LANGCHAIN_TRACING_V2\"] = \"true\"\n",
    "os.environ[\"LANGCHAIN_API_KEY\"] = \"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\"\n",
    "LANGCHAIN_PROJECT=\"pr-oily-flash-79\""
   ],
   "id": "804fa880b009d278",
   "outputs": [],
   "execution_count": 13
  },
  {
   "metadata": {
    "ExecuteTime": {
     "end_time": "2024-12-10T19:24:01.750384Z",
     "start_time": "2024-12-10T19:24:01.653908Z"
    }
   },
   "cell_type": "code",
   "source": [
    "from langchain_ollama import ChatOllama\n",
    "from langchain_ollama import OllamaEmbeddings\n",
    "from langchain_core.vectorstores import InMemoryVectorStore\n",
    "\n",
    "\n",
    "#chat_model = ChatOllama(model=\"llama3.1:8b\")\n",
    "#embeddings = OllamaEmbeddings(model=\"llama3.1:8b\")\n",
    "\n",
    "chat_model = ChatOllama(model=\"qwen2.5-coder:14b\")\n",
    "embeddings = OllamaEmbeddings(model=\"qwen2.5-coder:14b\")\n",
    "vector_store = InMemoryVectorStore(embeddings)\n",
    "\n",
    "#chat_model.invoke(\"Who was the first man on the moon?\")"
   ],
   "id": "f107756544c337e7",
   "outputs": [],
   "execution_count": 54
  },
  {
   "metadata": {},
   "cell_type": "code",
   "outputs": [],
   "execution_count": null,
   "source": "",
   "id": "581fbc11623f7efd"
  },
  {
   "metadata": {
    "ExecuteTime": {
     "end_time": "2024-12-10T19:24:04.621965Z",
     "start_time": "2024-12-10T19:24:04.619453Z"
    }
   },
   "cell_type": "code",
   "source": [
    "import bs4\n",
    "from langchain import hub\n",
    "from langchain_community.document_loaders import WebBaseLoader\n",
    "from langchain_core.documents import Document\n",
    "from langchain_text_splitters import RecursiveCharacterTextSplitter\n",
    "from langgraph.graph import START, StateGraph\n",
    "from typing_extensions import List, TypedDict"
   ],
   "id": "2c789cc5e6384788",
   "outputs": [],
   "execution_count": 55
  },
  {
   "metadata": {
    "ExecuteTime": {
     "end_time": "2024-12-10T19:24:15.829395Z",
     "start_time": "2024-12-10T19:24:07.834682Z"
    }
   },
   "cell_type": "code",
   "source": "docs = loader.load()",
   "id": "3ff46ff40aaa1d4",
   "outputs": [],
   "execution_count": 56
  },
  {
   "metadata": {
    "ExecuteTime": {
     "end_time": "2024-12-10T19:24:15.918213Z",
     "start_time": "2024-12-10T19:24:15.892723Z"
    }
   },
   "cell_type": "code",
   "source": [
    "\n",
    "text_splitter = RecursiveCharacterTextSplitter(chunk_size=1000, chunk_overlap=200)\n",
    "all_splits = text_splitter.split_documents(docs)\n",
    "# Index chunks"
   ],
   "id": "8f0605760888b128",
   "outputs": [],
   "execution_count": 58
  },
  {
   "metadata": {
    "jupyter": {
     "is_executing": true
    },
    "ExecuteTime": {
     "start_time": "2024-12-10T19:24:15.965330Z"
    }
   },
   "cell_type": "code",
   "source": "_ = vector_store.add_documents(documents=all_splits)",
   "id": "97c5618d92031d0d",
   "outputs": [],
   "execution_count": null
  },
  {
   "metadata": {
    "ExecuteTime": {
     "end_time": "2024-12-10T19:05:32.874378Z",
     "start_time": "2024-12-10T19:05:32.531328Z"
    }
   },
   "cell_type": "code",
   "source": [
    "\n",
    "# Define prompt for question-answering\n",
    "prompt = hub.pull(\"rlm/rag-prompt\")"
   ],
   "id": "b5cea426d9056ed8",
   "outputs": [],
   "execution_count": 35
  },
  {
   "metadata": {
    "ExecuteTime": {
     "end_time": "2024-12-10T19:06:31.833428Z",
     "start_time": "2024-12-10T19:06:31.828528Z"
    }
   },
   "cell_type": "code",
   "source": [
    "# Define state for application\n",
    "class State(TypedDict):\n",
    "    question: str\n",
    "    context: List[Document]\n",
    "    answer: str\n",
    "\n",
    "\n",
    "# Define application steps\n",
    "def retrieve(state: State):\n",
    "    retrieved_docs = vector_store.similarity_search(state[\"question\"])\n",
    "    return {\"context\": retrieved_docs}\n",
    "\n",
    "\n",
    "def generate(state: State):\n",
    "    docs_content = \"\\n\\n\".join(doc.page_content for doc in state[\"context\"])\n",
    "    messages = prompt.invoke({\"question\": state[\"question\"], \"context\": docs_content})\n",
    "    response = chat_model.invoke(messages)\n",
    "    return {\"answer\": response.content}"
   ],
   "id": "ced31d697ea9c51",
   "outputs": [],
   "execution_count": 40
  },
  {
   "metadata": {},
   "cell_type": "code",
   "outputs": [],
   "execution_count": null,
   "source": "",
   "id": "e8e131ab42c5df90"
  },
  {
   "metadata": {
    "ExecuteTime": {
     "end_time": "2024-12-10T19:06:49.405781Z",
     "start_time": "2024-12-10T19:06:49.398400Z"
    }
   },
   "cell_type": "code",
   "source": [
    "graph_builder = StateGraph(State).add_sequence([retrieve, generate])\n",
    "graph_builder.add_edge(START, \"retrieve\")\n",
    "graph = graph_builder.compile()"
   ],
   "id": "361acc13256cc184",
   "outputs": [],
   "execution_count": 42
  },
  {
   "metadata": {
    "ExecuteTime": {
     "end_time": "2024-12-10T19:22:08.095110Z",
     "start_time": "2024-12-10T19:22:05.530859Z"
    }
   },
   "cell_type": "code",
   "source": [
    "response = graph.invoke({\"question\": \"tensorboard is not working for me. It has been stuck in \\\"initializing\\\" status for quite some time on the Elastic Analysis Facility?\"})\n",
    "#(response)\n",
    "print(response[\"answer\"])"
   ],
   "id": "9658cf2c4abee3ef",
   "outputs": [
    {
     "name": "stderr",
     "output_type": "stream",
     "text": [
      "INFO: HTTP Request: POST http://127.0.0.1:11434/api/embed \"HTTP/1.1 200 OK\"\n",
      "INFO: HTTP Request: POST http://127.0.0.1:11434/api/chat \"HTTP/1.1 200 OK\"\n"
     ]
    },
    {
     "name": "stdout",
     "output_type": "stream",
     "text": [
      "I don't know the specific cause of the issue with Tensorboard stuck on \"initializing\" status in the Elastic Analysis Facility. However, I can suggest checking the logs in the sandbox directory for any errors or issues that may be causing the problem. Additionally, you can try using condor commands to check on your workers and see if there are any issues with resource allocation.\n"
     ]
    }
   ],
   "execution_count": 52
  }
 ],
 "metadata": {
  "kernelspec": {
   "display_name": "Python 3",
   "language": "python",
   "name": "python3"
  },
  "language_info": {
   "codemirror_mode": {
    "name": "ipython",
    "version": 2
   },
   "file_extension": ".py",
   "mimetype": "text/x-python",
   "name": "python",
   "nbconvert_exporter": "python",
   "pygments_lexer": "ipython2",
   "version": "2.7.6"
  }
 },
 "nbformat": 4,
 "nbformat_minor": 5
}
